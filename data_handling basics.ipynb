{
 "cells": [
  {
   "cell_type": "code",
   "execution_count": 4,
   "metadata": {},
   "outputs": [],
   "source": [
    "import matplotlib as plt\n",
    "import numpy as np\n",
    "import pandas as pd"
   ]
  },
  {
   "cell_type": "code",
   "execution_count": 9,
   "metadata": {},
   "outputs": [
    {
     "name": "stdout",
     "output_type": "stream",
     "text": [
      "    Yes    Single  12.5   No\n",
      "1                           \n",
      "2    No   Married  10.0   No\n",
      "3    No    Single   7.0   No\n",
      "4   Yes   Married  12.0   No\n",
      "5    No  Divorced   9.5  Yes\n",
      "6    No   Married   6.0   No\n",
      "7   Yes  Divorced  22.0   No\n",
      "8    No    Single   8.5  Yes\n",
      "9    No   Married   7.5   No\n",
      "10   No    Single   9.0  Yes\n",
      "11   No    Single   5.5  Yes\n",
      "12  Yes   Married   8.0   No\n",
      "13  Yes  Divorced  11.0   No\n",
      "14   No    Single   9.5   No\n",
      "15   No  Divorced   6.7  Yes\n"
     ]
    }
   ],
   "source": [
    "data = pd.read_csv('bankdebt.csv', index_col=0)\n",
    "print (data)"
   ]
  },
  {
   "cell_type": "code",
   "execution_count": 12,
   "metadata": {},
   "outputs": [
    {
     "name": "stdout",
     "output_type": "stream",
     "text": [
      "(14, 4) \n",
      "\n",
      "1\n",
      "2      Married\n",
      "3       Single\n",
      "4      Married\n",
      "5     Divorced\n",
      "6      Married\n",
      "7     Divorced\n",
      "8       Single\n",
      "9      Married\n",
      "10      Single\n",
      "11      Single\n",
      "12     Married\n",
      "13    Divorced\n",
      "14      Single\n",
      "15    Divorced\n",
      "Name: Single, dtype: object\n"
     ]
    }
   ],
   "source": [
    "#Show the data number and structure of df (df.index，df.columns)\n",
    "first = data[\"Single\"]\n",
    "print(data.shape,'\\n')\n",
    "print(first)"
   ]
  },
  {
   "cell_type": "code",
   "execution_count": 15,
   "metadata": {},
   "outputs": [
    {
     "name": "stdout",
     "output_type": "stream",
     "text": [
      "The size of data upon cleaning is: (0, 4)\n"
     ]
    }
   ],
   "source": [
    "#perform data cleaning on any given dataset\n",
    "data.drop_duplicates(inplace = True)\n",
    "data.dropna(thresh=8,inplace = True )\n",
    "print( 'The size of data upon cleaning is:', data.shape )"
   ]
  },
  {
   "cell_type": "code",
   "execution_count": 18,
   "metadata": {},
   "outputs": [
    {
     "name": "stdout",
     "output_type": "stream",
     "text": [
      "      Single  12.5\n",
      "0    Married  10.0\n",
      "1     Single   7.0\n",
      "2    Married  12.0\n",
      "3   Divorced   9.5\n",
      "4    Married   6.0\n",
      "5   Divorced  22.0\n",
      "6     Single   8.5\n",
      "7    Married   7.5\n",
      "8     Single   9.0\n",
      "9     Single   5.5\n",
      "10   Married   8.0\n",
      "11  Divorced  11.0\n",
      "12    Single   9.5\n",
      "13  Divorced   6.7\n"
     ]
    }
   ],
   "source": [
    "#writing quries \n",
    "data=pd.read_csv('bankdebt.csv',usecols = ['Single','12.5'])\n",
    "print (data)"
   ]
  },
  {
   "cell_type": "code",
   "execution_count": 19,
   "metadata": {},
   "outputs": [
    {
     "name": "stdout",
     "output_type": "stream",
     "text": [
      "    Yes    Single\n",
      "0    No   Married\n",
      "1    No    Single\n",
      "2   Yes   Married\n",
      "3    No  Divorced\n",
      "4    No   Married\n",
      "5   Yes  Divorced\n",
      "6    No    Single\n",
      "7    No   Married\n",
      "8    No    Single\n",
      "9    No    Single\n",
      "10  Yes   Married\n",
      "11  Yes  Divorced\n",
      "12   No    Single\n",
      "13   No  Divorced\n"
     ]
    }
   ],
   "source": [
    "data=pd.read_csv('bankdebt.csv',usecols = ['Yes','Single'])\n",
    "print (data)"
   ]
  },
  {
   "cell_type": "code",
   "execution_count": 23,
   "metadata": {},
   "outputs": [
    {
     "name": "stdout",
     "output_type": "stream",
     "text": [
      "9.442857142857141\n"
     ]
    }
   ],
   "source": [
    "#perfoming basic operations on data \n",
    "#note that you can only perform arithmetic operations of numerical values\n",
    "data=pd.read_csv('bankdebt.csv',usecols = ['Yes','12.5'])\n",
    "dataMean=data['12.5'].mean()\n",
    "print(dataMean)"
   ]
  },
  {
   "cell_type": "code",
   "execution_count": 25,
   "metadata": {},
   "outputs": [
    {
     "data": {
      "text/html": [
       "<div>\n",
       "<style scoped>\n",
       "    .dataframe tbody tr th:only-of-type {\n",
       "        vertical-align: middle;\n",
       "    }\n",
       "\n",
       "    .dataframe tbody tr th {\n",
       "        vertical-align: top;\n",
       "    }\n",
       "\n",
       "    .dataframe thead th {\n",
       "        text-align: right;\n",
       "    }\n",
       "</style>\n",
       "<table border=\"1\" class=\"dataframe\">\n",
       "  <thead>\n",
       "    <tr style=\"text-align: right;\">\n",
       "      <th></th>\n",
       "      <th>12.5</th>\n",
       "    </tr>\n",
       "  </thead>\n",
       "  <tbody>\n",
       "    <tr>\n",
       "      <th>count</th>\n",
       "      <td>14.000000</td>\n",
       "    </tr>\n",
       "    <tr>\n",
       "      <th>mean</th>\n",
       "      <td>9.442857</td>\n",
       "    </tr>\n",
       "    <tr>\n",
       "      <th>std</th>\n",
       "      <td>4.064805</td>\n",
       "    </tr>\n",
       "    <tr>\n",
       "      <th>min</th>\n",
       "      <td>5.500000</td>\n",
       "    </tr>\n",
       "    <tr>\n",
       "      <th>25%</th>\n",
       "      <td>7.125000</td>\n",
       "    </tr>\n",
       "    <tr>\n",
       "      <th>50%</th>\n",
       "      <td>8.750000</td>\n",
       "    </tr>\n",
       "    <tr>\n",
       "      <th>75%</th>\n",
       "      <td>9.875000</td>\n",
       "    </tr>\n",
       "    <tr>\n",
       "      <th>max</th>\n",
       "      <td>22.000000</td>\n",
       "    </tr>\n",
       "  </tbody>\n",
       "</table>\n",
       "</div>"
      ],
      "text/plain": [
       "            12.5\n",
       "count  14.000000\n",
       "mean    9.442857\n",
       "std     4.064805\n",
       "min     5.500000\n",
       "25%     7.125000\n",
       "50%     8.750000\n",
       "75%     9.875000\n",
       "max    22.000000"
      ]
     },
     "execution_count": 25,
     "metadata": {},
     "output_type": "execute_result"
    }
   ],
   "source": [
    "# Statistical summary which includes the count mean std deviation etc\n",
    "data.describe()"
   ]
  },
  {
   "cell_type": "code",
   "execution_count": 40,
   "metadata": {},
   "outputs": [
    {
     "data": {
      "image/png": "[encoded data removed]",
      "text/plain": [
       "<Figure size 360x360 with 1 Axes>"
      ]
     },
     "metadata": {},
     "output_type": "display_data"
    }
   ],
   "source": [
    "#let us visualize now\n",
    "pieplot = data.plot.pie(y= \"12.5\", figsize = (5,5), legend = False)"
   ]
  },
  {
   "cell_type": "code",
   "execution_count": null,
   "metadata": {},
   "outputs": [],
   "source": []
  }
 ],
 "metadata": {
  "kernelspec": {
   "display_name": "Python 3",
   "language": "python",
   "name": "python3"
  },
  "language_info": {
   "codemirror_mode": {
    "name": "ipython",
    "version": 3
   },
   "file_extension": ".py",
   "mimetype": "text/x-python",
   "name": "python",
   "nbconvert_exporter": "python",
   "pygments_lexer": "ipython3",
   "version": "3.7.6"
  }
 },
 "nbformat": 4,
 "nbformat_minor": 4
}
